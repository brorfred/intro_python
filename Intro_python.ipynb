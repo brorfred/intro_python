{
 "cells": [
  {
   "cell_type": "markdown",
   "metadata": {
    "slideshow": {
     "slide_type": "slide"
    }
   },
   "source": [
    "# Intro to Python"
   ]
  },
  {
   "cell_type": "raw",
   "metadata": {
    "hide_egal": true,
    "is_egal": true,
    "slideshow": {
     "slide_type": "slide"
    }
   },
   "source": [
    "<svg height=\"600\" width=\"100%\"><g id=\"drup_elem_1\" first-frame=\"1\" last-frame=\"1\" class=\"drupElem egal-select\"><circle cx=\"410.15625\" cy=\"293.8125\" r=\"130\" vector-effect=\"non-scaling-stroke\" style=\"stroke-width: 1px;\" fill=\"#eeddee\" stroke=\"#000000\" class=\"core alignable sub\" transform=\"matrix(1.2458,0,0,1.1846,13.1889,-61.2423)\"></circle><circle cx=\"410.15625\" cy=\"163.8125\" r=\"5\" style=\"stroke-width: 1px; opacity: 0;\" stroke=\"#000000\" fill=\"#ffffff\" id=\"drup_elem_1_endpoint_0\" class=\"endPoint up sub\" transform=\"matrix(1,0,0,1,114,-31)\"></circle><circle cx=\"410.15625\" cy=\"423.8125\" r=\"5\" style=\"stroke-width: 1px; opacity: 0;\" stroke=\"#000000\" fill=\"#ffffff\" id=\"drup_elem_1_endpoint_1\" class=\"endPoint down sub\" transform=\"matrix(1,0,0,1,114,17)\"></circle><circle cx=\"280.15625\" cy=\"293.8125\" r=\"5\" style=\"stroke-width: 1px; opacity: 0;\" stroke=\"#000000\" fill=\"#ffffff\" id=\"drup_elem_1_endpoint_2\" class=\"endPoint left sub\" transform=\"matrix(1,0,0,1,82.0477,-7)\"></circle><circle cx=\"540.15625\" cy=\"293.8125\" r=\"5\" style=\"stroke-width: 1px; opacity: 0;\" stroke=\"#000000\" fill=\"#ffffff\" id=\"drup_elem_1_endpoint_3\" class=\"endPoint right sub\" transform=\"matrix(1,0,0,1,145.9523,-7)\"></circle><text x=\"410.15625\" y=\"293.8125\" style=\"font-size: 20px; text-anchor: middle; alignment-baseline: central; opacity: 1; visibility: visible;\" class=\"egal-label sub\" data-src=\"Python\" transform=\"matrix(1,0,0,1,114,-7)\">Python</text></g><desc>Created with Snap</desc><defs><filter id=\"Sk1rl7ucf3\" filterUnits=\"userSpaceOnUse\"><feGaussianBlur in=\"SourceAlpha\" stdDeviation=\"3\"></feGaussianBlur><feOffset dx=\"0\" dy=\"2\" result=\"offsetblur\"></feOffset><feFlood flood-color=\"#000000\"></feFlood><feComposite in2=\"offsetblur\" operator=\"in\"></feComposite><feComponentTransfer><feFuncA type=\"linear\" slope=\"1\"></feFuncA></feComponentTransfer><feMerge><feMergeNode></feMergeNode><feMergeNode in=\"SourceGraphic\"></feMergeNode></feMerge></filter><marker viewBox=\"0 0 10 10\" markerWidth=\"10\" markerHeight=\"10\" orient=\"auto\" refX=\"9\" refY=\"3\" id=\"arrowEndMarker\"><polygon points=\"0,0,0,6,9,3,0,0\" style=\"\" fill=\"#323232\" id=\"arrow\"></polygon></marker><marker viewBox=\"0 0 10 10\" markerWidth=\"10\" markerHeight=\"10\" orient=\"auto\" refX=\"0\" refY=\"3\" id=\"arrowStartMarker\"><polygon points=\"0,3,9,0,9,6,0,3\" style=\"\" fill=\"#323232\" id=\"startArrow\"></polygon></marker><filter id=\"Sk1rwhi8v3\" filterUnits=\"userSpaceOnUse\"><feGaussianBlur in=\"SourceAlpha\" stdDeviation=\"3\"></feGaussianBlur><feOffset dx=\"0\" dy=\"2\" result=\"offsetblur\"></feOffset><feFlood flood-color=\"#000000\"></feFlood><feComposite in2=\"offsetblur\" operator=\"in\"></feComposite><feComponentTransfer><feFuncA type=\"linear\" slope=\"1\"></feFuncA></feComponentTransfer><feMerge><feMergeNode></feMergeNode><feMergeNode in=\"SourceGraphic\"></feMergeNode></feMerge></filter><marker viewBox=\"0 0 10 10\" markerWidth=\"10\" markerHeight=\"10\" orient=\"auto\" refX=\"9\" refY=\"3\" id=\"arrowEndMarker\"><polygon points=\"0,0,0,6,9,3,0,0\" style=\"\" fill=\"#323232\" id=\"arrow\"></polygon></marker><marker viewBox=\"0 0 10 10\" markerWidth=\"10\" markerHeight=\"10\" orient=\"auto\" refX=\"0\" refY=\"3\" id=\"arrowStartMarker\"><polygon points=\"0,3,9,0,9,6,0,3\" style=\"\" fill=\"#323232\" id=\"startArrow\"></polygon></marker></defs><g id=\"drup_elem_2\" first-frame=\"1\" last-frame=\"1\" class=\"drupElem\"><circle cx=\"394.15625\" cy=\"275.8125\" r=\"0\" vector-effect=\"non-scaling-stroke\" style=\"stroke-width: 1px;\" fill=\"#ffffff\" stroke=\"#000000\" class=\"core alignable sub\"></circle><circle cx=\"394.15625\" cy=\"275.8125\" r=\"5\" style=\"stroke-width: 1px; opacity: 0;\" stroke=\"#000000\" fill=\"#ffffff\" id=\"drup_elem_2_endpoint_0\" class=\"endPoint up sub\"></circle><circle cx=\"394.15625\" cy=\"275.8125\" r=\"5\" style=\"stroke-width: 1px; opacity: 0;\" stroke=\"#000000\" fill=\"#ffffff\" id=\"drup_elem_2_endpoint_1\" class=\"endPoint down sub\"></circle><circle cx=\"394.15625\" cy=\"275.8125\" r=\"5\" style=\"stroke-width: 1px; opacity: 0;\" stroke=\"#000000\" fill=\"#ffffff\" id=\"drup_elem_2_endpoint_2\" class=\"endPoint left sub\"></circle><circle cx=\"394.15625\" cy=\"275.8125\" r=\"5\" style=\"stroke-width: 1px; opacity: 0;\" stroke=\"#000000\" fill=\"#ffffff\" id=\"drup_elem_2_endpoint_3\" class=\"endPoint right sub\"></circle><text x=\"394.15625\" y=\"275.8125\" style=\"font-size: 20px; text-anchor: middle; alignment-baseline: central; opacity: 0;\" class=\"egal-label sub\">|</text></g><g id=\"drup_elem_3\" first-frame=\"1\" last-frame=\"1\" class=\"drupElem\"><circle cx=\"404.15625\" cy=\"299.8125\" r=\"0\" vector-effect=\"non-scaling-stroke\" style=\"stroke-width: 1px;\" fill=\"#ffffff\" stroke=\"#000000\" class=\"core alignable sub\"></circle><circle cx=\"404.15625\" cy=\"299.8125\" r=\"5\" style=\"stroke-width: 1px; opacity: 0;\" stroke=\"#000000\" fill=\"#ffffff\" id=\"drup_elem_3_endpoint_0\" class=\"endPoint up sub\"></circle><circle cx=\"404.15625\" cy=\"299.8125\" r=\"5\" style=\"stroke-width: 1px; opacity: 0;\" stroke=\"#000000\" fill=\"#ffffff\" id=\"drup_elem_3_endpoint_1\" class=\"endPoint down sub\"></circle><circle cx=\"404.15625\" cy=\"299.8125\" r=\"5\" style=\"stroke-width: 1px; opacity: 0;\" stroke=\"#000000\" fill=\"#ffffff\" id=\"drup_elem_3_endpoint_2\" class=\"endPoint left sub\"></circle><circle cx=\"404.15625\" cy=\"299.8125\" r=\"5\" style=\"stroke-width: 1px; opacity: 0;\" stroke=\"#000000\" fill=\"#ffffff\" id=\"drup_elem_3_endpoint_3\" class=\"endPoint right sub\"></circle><text x=\"404.15625\" y=\"299.8125\" style=\"font-size: 20px; text-anchor: middle; alignment-baseline: central; opacity: 0;\" class=\"egal-label sub\">|</text></g><g id=\"drup_elem_4\" first-frame=\"1\" last-frame=\"1\" class=\"drupElem\"><circle cx=\"252.15625\" cy=\"273.8125\" r=\"92\" vector-effect=\"non-scaling-stroke\" style=\"stroke-width: 1px;\" fill=\"#ccdddd\" stroke=\"#000000\" class=\"core alignable sub\" transform=\"matrix(1,0,0,1,137,36)\"></circle><circle cx=\"252.15625\" cy=\"181.8125\" r=\"5\" style=\"stroke-width: 1px; opacity: 0;\" stroke=\"#000000\" fill=\"#ffffff\" id=\"drup_elem_4_endpoint_0\" class=\"endPoint up sub\" transform=\"matrix(1,0,0,1,137,36)\"></circle><circle cx=\"252.15625\" cy=\"365.8125\" r=\"5\" style=\"stroke-width: 1px; opacity: 0;\" stroke=\"#000000\" fill=\"#ffffff\" id=\"drup_elem_4_endpoint_1\" class=\"endPoint down sub\" transform=\"matrix(1,0,0,1,137,36)\"></circle><circle cx=\"160.15625\" cy=\"273.8125\" r=\"5\" style=\"stroke-width: 1px; opacity: 0;\" stroke=\"#000000\" fill=\"#ffffff\" id=\"drup_elem_4_endpoint_2\" class=\"endPoint left sub\" transform=\"matrix(1,0,0,1,137,36)\"></circle><circle cx=\"344.15625\" cy=\"273.8125\" r=\"5\" style=\"stroke-width: 1px; opacity: 0;\" stroke=\"#000000\" fill=\"#ffffff\" id=\"drup_elem_4_endpoint_3\" class=\"endPoint right sub\" transform=\"matrix(1,0,0,1,137,36)\"></circle><text x=\"252.15625\" y=\"273.8125\" style=\"font-size: 20px; text-anchor: middle; alignment-baseline: central; opacity: 1; visibility: visible;\" class=\"egal-label sub\" data-src=\"R\" transform=\"matrix(1,0,0,1,137,36)\">R</text></g><g id=\"drup_elem_5\" first-frame=\"1\" last-frame=\"1\" class=\"drupElem\"><circle cx=\"517.15625\" cy=\"206.8125\" r=\"87\" vector-effect=\"non-scaling-stroke\" style=\"stroke-width: 1px;\" fill=\"#ccddee\" stroke=\"#000000\" class=\"core alignable sub\" transform=\"matrix(1,0,0,1,-83,-1)\"></circle><circle cx=\"517.15625\" cy=\"119.8125\" r=\"5\" style=\"stroke-width: 1px; opacity: 0;\" stroke=\"#000000\" fill=\"#ffffff\" id=\"drup_elem_5_endpoint_0\" class=\"endPoint up sub\" transform=\"matrix(1,0,0,1,-83,-1)\"></circle><circle cx=\"517.15625\" cy=\"293.8125\" r=\"5\" style=\"stroke-width: 1px; opacity: 0;\" stroke=\"#000000\" fill=\"#ffffff\" id=\"drup_elem_5_endpoint_1\" class=\"endPoint down sub\" transform=\"matrix(1,0,0,1,-83,-1)\"></circle><circle cx=\"430.15625\" cy=\"206.8125\" r=\"5\" style=\"stroke-width: 1px; opacity: 0;\" stroke=\"#000000\" fill=\"#ffffff\" id=\"drup_elem_5_endpoint_2\" class=\"endPoint left sub\" transform=\"matrix(1,0,0,1,-83,-1)\"></circle><circle cx=\"604.15625\" cy=\"206.8125\" r=\"5\" style=\"stroke-width: 1px; opacity: 0;\" stroke=\"#000000\" fill=\"#ffffff\" id=\"drup_elem_5_endpoint_3\" class=\"endPoint right sub\" transform=\"matrix(1,0,0,1,-83,-1)\"></circle><text x=\"517.15625\" y=\"206.8125\" style=\"font-size: 20px; text-anchor: middle; alignment-baseline: central; opacity: 1; visibility: visible;\" class=\"egal-label sub\" transform=\"matrix(1,0,0,1,-83,-1)\" data-src=\"Matlab\">Matlab</text></g></svg>"
   ]
  },
  {
   "cell_type": "code",
   "execution_count": null,
   "metadata": {
    "slideshow": {
     "slide_type": "slide"
    }
   },
   "outputs": [],
   "source": [
    "xval = 56\n",
    "pars = [12, 14, 16, 18]\n",
    "psum = 0\n",
    "for p in pars:\n",
    "    psum = psum + p * xval # Calculate psum\n",
    "print(psum)"
   ]
  },
  {
   "cell_type": "markdown",
   "metadata": {
    "slideshow": {
     "slide_type": "slide"
    }
   },
   "source": [
    " # Packages\n",
    " * numpy\n",
    " * scipy\n",
    " * matplotlib\n",
    " * pandas\n",
    " * xarray\n",
    " * scikit-learn\n",
    " * seawater"
   ]
  },
  {
   "cell_type": "code",
   "execution_count": null,
   "metadata": {
    "slideshow": {
     "slide_type": "slide"
    }
   },
   "outputs": [],
   "source": [
    "#!/usr/bin/python\n",
    "\n",
    "import scipy.interpolate\n",
    "\n",
    "\n",
    "import numpy as np\n",
    "from pylab import *\n",
    "from matplotlib import pyplot as plt\n",
    "from matplotlib import dates\n",
    "\n",
    "from datetime import datetime, timedelta\n",
    "from datetime import date\n",
    "\n",
    "import cmocean\n",
    "import matplotlib.dates as mdates\n",
    "\n",
    "\n",
    "clf()\n",
    "\n",
    "plt.close('all')\n",
    "\n",
    "ymax = 500\n",
    "\n",
    "\n",
    "#fn_variable = \"chl_smooth\", \"S\", \"T\", \"bbpcorr\", \"bbpcorr_smooth\", \"cdomcorr\", \"cdomcorr_smooth\"#, \"oxygen_sat\", \"no3\"#, \"bbpcorr_spikes\", \n",
    "#fn_variable =  \"slope_smooth\", \"cdomcorr\", \"cdomcorr_smooth\", \"S\", \"T\", \"chl_smooth\", \"bbpcorr\", \"bbpcorr_smooth\"#, \"oxygen_sat\"#, \"no3\"#, \"bbpcorr_spikes\", \"POC_bbpcorr_smooth\", \"sigma_theta0\"\n",
    "fn_variable =  \"chl_smooth\",  \"aou\", \"doxy\", \"bbp700_corr_smooth\", \"S\", \"T\", \"chl_spikes\", \"c1phase\", \"c2phase\", \"sigma_theta0\", \"o2prcntsat\", \"bbp532_corr_smooth\", \"Kd\", \"ocr\", \"bbp_slope_smooth\", \"bbp532_corr_smooth\", \"S\", \"T\", \"bbp700_corr\", \"bbp532_corr\"#, \"oxygen_sat\"#, \"no3\"#, \"bbpcorr_spikes\", \"POC_bbpcorr_smooth\",\n",
    "\n",
    "\n",
    "all_float_no = \"lovbio014b\", \"metbio005d\", \"metbio012e\", \"lovbio022b\", \"imrbio002d\", \"metbio001b\", \"metbio002b\", \"lovbio005b\", \"lovbio003b\", \"PAC_NO_B05_6900680\", \"PAC_NO_B04_6900682\", \"PAC_NO_B07_6900683\", \"PAC_MQ_B25_9999999\", \"0068RossSea\", \"7558ETNP\", \"7564Arctic\"\n",
    "\n",
    "float_no = all_float_no[0]\n",
    "\n",
    "# maindir = \"/Users/gdal/Data/LOV_floats/\"\n",
    "maindir = \"/fast_scratch/LOV_floats/\"\n",
    "# din = \"/fast_scratch/LOV_floats/output/\" + float_no + \"/data/\"\n",
    "din = maindir + \"output/\" + float_no + \"/data/\"\n",
    "#doutplots = \"/grg/LOV_floats/output/\" + float_no + \"/plots/\"\n",
    "doutplots = maindir + \"output/\" + float_no + \"/plots/\"\n",
    "\n",
    "for ivar in range(1):\n",
    "    plt.close('all')\n",
    "    print fn_variable[ivar]\n",
    "    \n",
    "    fn = float_no + '_xyz_' + fn_variable[ivar] + '.dat'\n",
    "    print \"loading \"+din+fn\n",
    "\n",
    "    x,y,z = np.loadtxt(din + fn, unpack=True, usecols=(0,1,2))   \n",
    "    fn_mld = din + float_no +'_mld.dat'\n",
    "    mld_time, mld, mld010, mld005, mld001 = np.loadtxt(fn_mld, unpack=True, usecols=(0,1,2,3,4))\n",
    "\n",
    "\n",
    "\n",
    "    x = x-366;  #conversion between octave and python date\n",
    "    mld_time = mld_time-366\n",
    "\n",
    "    fig = plt.figure(1, figsize=(20, 6))\n",
    "    ax = fig.add_subplot(111, axisbg='black')\n",
    "\n",
    "    cmap = mpl.cm.jet\n",
    "\n",
    "\n",
    "    ax.set_position([0.085, 0.25, 0.775, 0.65])\n",
    "\n",
    "    wv = '' # this is to allow for wavelength dependency in filename of ocr plots\n",
    "\n",
    "    kdr = 0\n",
    "\n",
    "    if 'chl_smooth' in fn:\n",
    "        vmin_grg = np.percentile(z, 2)# np.log10(0.01)\n",
    "        vmax_grg = np.percentile(z, 98)# np.log10(1)\n",
    "        title_grg = '$\\log_{10}$(chl) [mg m$^{-3}$]'\n",
    "        cmap = cmocean.cm.tempo_r\n",
    "\n",
    "    elif 'chl_spikes' in fn:\n",
    "\n",
    "        vmin_grg = np.percentile(z, 75)\n",
    "        vmax_grg = np.percentile(z, 95)\n",
    "        title_grg = '$\\log_{10}$(chl_spikes) [mg m$^{-3}$]'\n",
    "\n",
    "    elif 'slope_smooth' in fn:\n",
    "        vmin_grg = np.percentile(z, 5)# 0.95\n",
    "        vmax_grg = np.percentile(z, 95)# 1.2\n",
    "        title_grg = 'b$_{bp}(532)$:b$_{bp}(700)$'\n",
    "        cmap = mpl.cm.RdYlBu\n",
    "\n",
    "    elif 'ocr' in fn:\n",
    "        x, y, z380, z412, z490, zpar = np.loadtxt(din + fn, unpack=True, usecols=(0,1,2, 3, 4, 5))\n",
    "        x = x-366\n",
    "        wv = 'par'\n",
    "        z = eval('z'+wv)\n",
    "        vmin_grg = -2.0#np.percentile(z, 5)# 0.95\n",
    "        vmax_grg = 1.5#np.percentile(z, 95)# 1.2\n",
    "        cmap = mpl.cm.RdYlBu_r\n",
    "        ymax = 250\n",
    "        title_grg = '$\\log10[E_d($'+str(wv)+'$)]$ [$\\mu$W cm$^{-2}$ nm$^{-1}$]'\n",
    "        if wv=='par':\n",
    "            title_grg = '$\\log10[E_d($'+str(wv)+'$)]$ [$\\mu$W cm$^{-2}$]'\n",
    "\n",
    "\n",
    "    elif kdr:  # this needs to be above the Kd part\n",
    "        x, y, Kd380, Kd412, Kd490, Kdpar = np.loadtxt(din + fn, unpack=True, usecols=(0,1,2, 3, 4, 5))\n",
    "        x = x-366\n",
    "        wv = '380'\n",
    "        z = eval('Kd'+wv+'/Kd490')\n",
    "        vmin_grg = -0.0#np.percentile(z, 5)# 0.95\n",
    "        vmax_grg = 2.25#np.percentile(z, 95)# 1.2\n",
    "        cmap = mpl.cm.jet\n",
    "        ymax = 250\n",
    "        title_grg = '$K_d(' + str(wv) + '):K_d(490)$  [-]'\n",
    "        wv = wv+'_Kd490'\n",
    "        if wv[0:3]=='412':\n",
    "            vmin_grg = 0.75#np.percentile(z, 5)# 0.95\n",
    "            vmax_grg = 1.50#np.percentile(z, 95)# 1.2\n",
    "\n",
    "    elif 'Kd' in fn:\n",
    "        x, y, Kd380, Kd412, Kd490, Kdpar = np.loadtxt(din + fn, unpack=True, usecols=(0,1,2, 3, 4, 5))\n",
    "        x = x-366\n",
    "        wv = '412'\n",
    "        z = eval('Kd'+wv)\n",
    "        vmin_grg = -0.0#np.percentile(z, 5)# 0.95\n",
    "        vmax_grg = 0.1#np.percentile(z, 95)# 1.2\n",
    "        cmap = mpl.cm.RdYlBu_r\n",
    "        ymax = 250\n",
    "        title_grg = '$K_d($' + str(wv) + '$)$  [m$^{-1}$]'\n",
    "#        if wv=='490':\n",
    "#            vmin_grg = 0.02#np.percentile(z, 5)# 0.95\n",
    "#            vmax_grg = 0.05#np.percentile(z, 95)# 1.2\n",
    "\n",
    "    elif 'bbp532_corr_smooth' in fn:\n",
    "        vmin_grg = np.percentile(z, 15)\n",
    "        vmax_grg = np.percentile(z, 95)\n",
    "        title_grg = '$\\log_{10}$(b$_{bp}(532)$) [m$^{-1}$]'\n",
    "        cmap = mpl.cm.hot\n",
    "    elif 'bbp700_corr_smooth' in fn:\n",
    "        vmin_grg = -2.88 # np.percentile(z, 15)\n",
    "        vmax_grg = np.percentile(z, 95)\n",
    "        title_grg = '$\\log_{10}$(b$_{bp}(700)$) [m$^{-1}$]'\n",
    "        cmap = mpl.cm.magma\n",
    "    elif 'bbp532_corr' in fn:\n",
    "        vmin_grg = -3.1#np.percentile(z, 35)\n",
    "        vmax_grg = -2.7#np.percentile(z, 95)\n",
    "        title_grg = '$\\log_{10}$(b$_{bp}(532)$) [m$^{-1}$]'\n",
    "        cmap = mpl.cm.hot\n",
    "    elif 'bbp700_corr' in fn:\n",
    "        vmin_grg = np.percentile(z, 35)\n",
    "        vmax_grg = np.percentile(z, 95)\n",
    "        title_grg = '$\\log_{10}$(b$_{bp}(700)$) [m$^{-1}$]'\n",
    "        cmap = mpl.cm.magma\n",
    "    elif 'doxy' in fn:\n",
    "        vmin_grg = np.percentile(z, 1)\n",
    "        vmax_grg = np.percentile(z, 55)\n",
    "        title_grg = 'Dissolved oxygen [$\\mu$mol kg$^{-1}$]'\n",
    "        cmap = cmocean.cm.ice\n",
    "    elif 'o2prcntsat' in fn:\n",
    "        vmin_grg = np.percentile(z, 5)\n",
    "        vmax_grg = np.percentile(z, 95)\n",
    "        title_grg = 'Oxygen saturation [$\\%$]'\n",
    "        cmap = mpl.cm.jet\n",
    "    elif 'aou' in fn:\n",
    "        vmin_grg = np.percentile(z, 35)\n",
    "        vmax_grg = np.percentile(z, 98)\n",
    "        title_grg = 'Apparent Oxygen Utilisation [$\\mu$mol kg$^{-1}$]'\n",
    "        cmap = cmocean.cm.matter_r\n",
    "    elif 'c1phase' in fn:\n",
    "        vmin_grg = np.percentile(z, 5)\n",
    "        vmax_grg = np.percentile(z, 95)\n",
    "        title_grg = 'C1PHASE'\n",
    "        cmap = mpl.cm.jet\n",
    "    elif 'c2phase' in fn:\n",
    "        vmin_grg = np.percentile(z, 5)\n",
    "        vmax_grg = np.percentile(z, 95)\n",
    "        title_grg = 'C2PHASE'\n",
    "        cmap = mpl.cm.jet\n",
    "#    elif fn[-11:-4]=='bbpcorr':\n",
    "#        vmin_grg = -3.92#np.percentile(z, 35)\n",
    "#        vmax_grg = -3.7#np.percentile(z, 95)\n",
    "#        title_grg = '$\\log_{10}$(b$_{bp}$) [m$^{-1}$]'\n",
    "#    elif fn[-18:-4]=='bbpcorr_smooth':\n",
    "#        vmin_grg = -3.92#np.percentile(z, 55)\n",
    "#        vmax_grg = -3.7#np.percentile(z, 85)\n",
    "#        title_grg = '$\\log_{10}$(b$_{bp}$) [m$^{-1}$]'\n",
    "#    elif fn[-12:-4]=='cdomcorr':\n",
    "#        vmin_grg = -3.65#np.percentile(z, 35)\n",
    "#        vmax_grg = -3.45#np.percentile(z, 95)\n",
    "#        title_grg = '$\\log_{10}$(b$_{bp}$) [m$^{-1}$]'\n",
    "#    elif fn[-19:-4]=='cdomcorr_smooth':\n",
    "#        vmin_grg = -3.65#np.percentile(z, 35)\n",
    "#        vmax_grg = -3.45#np.percentile(z, 95)\n",
    "#        title_grg = '$\\log_{10}$(b$_{bp}$) [m$^{-1}$]'\n",
    "    elif 'T' in fn:\n",
    "        vmin_grg = np.percentile(z, 5)\n",
    "        vmax_grg = np.percentile(z, 95)\n",
    "        title_grg = 'T [$^{\\circ}$C]'\n",
    "        cmap = cmocean.cm.thermal\n",
    "    elif 'S' in fn:\n",
    "        vmin_grg = 34.3#np.percentile(z, 5)\n",
    "        vmax_grg = 34.75#np.percentile(z, 95)\n",
    "        title_grg = 'S [psu]'\n",
    "        cmap =w cmocean.cm.haline\n",
    "    elif fn[-14:-4]=='oxygen_sat':\n",
    "        vmin_grg = 0\n",
    "        vmax_grg = 100\n",
    "        title_grg = 'Oxygen Saturation [%]'\n",
    "    elif fn[-7:-4]=='no3':\n",
    "        vmin_grg = 0\n",
    "        vmax_grg = 100\n",
    "        title_grg = 'Nitrate [uM]'\n",
    "    elif 'sigma_theta0' in fn:\n",
    "        vmin_grg = np.percentile(z, 5)#26.8\n",
    "        vmax_grg = np.percentile(z, 95)#28.25\n",
    "        title_gwwrg = '$\\sigma_{0}$ [kg m$^{-3}$]'\n",
    "    elif fn[len(float_no)+1+5:len(float_no)+1+17]=='POC_bbpcorr_':\n",
    "        vmin_grg = 0\n",
    "        vmax_grg = 3\n",
    "        title_grg = '$\\log_{10}$(POC) [mg m$^{-3}$]'\n",
    "\n",
    "\n",
    "#prepare colormap\n",
    "#    if fn_variable[ivar]=='S':\n",
    "#        cmap = mpl.cm.seismic\n",
    "#    else:\n",
    "\n",
    "#    if fn_variable[ivar]=='oxygen_sat':\n",
    "#        z = z-100\n",
    "#        z[np.round(x)==735616] = nan # remove strange sigma theta profile\n",
    "    print vmin_grg, vmax_grg, fn\n",
    "    sc = plt.scatter(x, y, s=64, c=z, marker='o', edgecolors='none', vmin=vmin_grg, vmax=vmax_grg, cmap=cmap)\n",
    "    # plt.scatter(x, y, s=64, c=z, marker='o', edgecolors='none', vmin=vmin_grg, vmax=vmax_grg, cmap=cmap)\n",
    "\n",
    "    # hold('on')\n",
    "\n",
    "#    plt3 = ax.plot(mld_time, mld010, 'wo')\n",
    "#    plt4 = ax.plot(mld_time, mld005, 'w-', lw=3)\n",
    "    plt4 = ax.plot(mld_time, mld, 'w-', lw=2)\n",
    "#    plt5 = ax.plot(mld_time, mld001, 'w')\n",
    "\n",
    "\n",
    "    ylim([0, ymax])\n",
    "    plt.gca().invert_yaxis()\n",
    "\n",
    "#add contours of sigma_theta0\n",
    "    if ('aou' in fn) | ('bbp_slope_smooth' in fn) | ('c1phase' in fn) | ('c2phase' in fn) |  ('T' in fn)  | ('S' in fn)  | ('sigma_theta0' in fn)  | ('bbp700_corr_smooth' in fn) :\n",
    "        fnin = float_no + '_xyz_sigma_theta0.dat'\n",
    "        xst0,yst0,st0 = np.loadtxt(din + fnin, unpack=True, usecols=(0,1,2))\n",
    "        xst0 = xst0-366;  #conversion between octave and python date\n",
    "\n",
    "        # st0 = np.delete(st0, np.where(np.round(xst0) == 735616)) # remove strange sigmat theta profile\n",
    "        # z = np.delete(z, np.where(np.round(xst0) == 735616)) # remove strange sigmat theta profile\n",
    "        # yst0 = np.delete(yst0, np.where(np.round(xst0) == 735616)) # remove strange sigmat theta profile\n",
    "        # xst0 = np.delete(xst0, np.where(np.round(xst0) == 735616)) # remove strange sigmat theta profile\n",
    "\n",
    "\n",
    "    #    # Set up a regular grid of interpolation points\n",
    "        xi, yi = np.linspace(xst0.min(), xst0.max(), 100), np.linspace(yst0.min(), yst0.max(), 100)\n",
    "        xi, yi = np.meshgrid(xi, yi)\n",
    "\n",
    "    #    # Interpolate; there's also method='cubic' for 2-D data such as here\n",
    "        zi = scipy.interpolate.griddata((xst0, yst0), st0, (xi, yi), method='linear')\n",
    "    #\n",
    "\n",
    "        st0min = 26.5\n",
    "        st0max = 27.\n",
    "\n",
    "        CS = plt.contour(xi, yi, zi, linspace(st0min, st0max, num=5), colors='w', linewidths=1)\n",
    "        plt.clabel(CS, inline=1, fontsize=20, colors='w')\n",
    "        # CS279 = plt.contour(xi, yi, zi, [st0min, max(zi)], colors='plum', linewidths=6)\n",
    "    \n",
    "\n",
    "\n",
    "    #####   set ticks and  labels\n",
    "    months = mdates.MonthLocator(interval=1)\n",
    "    years = mdates.YearLocator()\n",
    "\n",
    "    datemin = int(floor(min(x)))\n",
    "    datemax = int(ceil(max(x)))\n",
    "\n",
    "    # datemin = datetime.strptime('2014-01-01', '%Y-%m-%d').date()\n",
    "    # datemin = datemin.toordinal()\n",
    "    # datemax = datetime.strptime('2014-08-01', '%Y-%m-%d').date()\n",
    "    # datemax = datemax.toordinal()\n",
    "\n",
    "    ax.set_xlim(datemin, datemax)\n",
    "\n",
    "    ax.xaxis.set_minor_locator(months)\n",
    "    ax.xaxis.set_major_locator(years)\n",
    "\n",
    "    fmt = mdates.DateFormatter('%m')\n",
    "    ax.xaxis.set_major_formatter(mdates.DateFormatter('%Y'))\n",
    "    ax.xaxis.set_minor_formatter(fmt)\n",
    "\n",
    "    ax.tick_params(axis='x', which='major', direction='out', pad=25, labelsize=20)\n",
    "    ax.tick_params(axis='x', which='minor', direction='out', pad=0.5, labelsize=20)\n",
    "    ax.tick_params(axis='both', which='both', labelsize=20)\n",
    "    title(title_grg, fontsize=30)\n",
    "    ylabel('Depth [m]', fontsize=20)\n",
    "\n",
    "\n",
    "\n",
    "\n",
    "\n",
    "\n",
    "    ###prepare colorbar\n",
    "\n",
    "    ax1 = fig.add_axes([0.90, 0.25, 0.025, 0.65])\n",
    "\n",
    "    norm = mpl.colors.Normalize(vmin=vmin_grg, vmax=vmax_grg)\n",
    "\n",
    "    cb1 = mpl.colorbar.ColorbarBase(ax1, cmap=cmap,\n",
    "                       norm=norm,\n",
    "                       orientation='vertical')\n",
    "    imaxes = gca()\n",
    "    axes(cb1.ax)\n",
    "    yticks(fontsize=20)\n",
    "    axes(imaxes)\n",
    "\n",
    "    fname = doutplots + fn[0:-4]+str(wv)+'.png'\n",
    "    figure = plt.gcf() # get current figure   \n",
    "    figure.set_size_inches(16, 6)\n",
    "    figure.savefig(fname, dpi = 75)\n",
    "    plt.cla()\n"
   ]
  },
  {
   "cell_type": "markdown",
   "metadata": {
    "slideshow": {
     "slide_type": "slide"
    }
   },
   "source": [
    "\n",
    "\n",
    "\n",
    "<h1><center>Understandable</center></h1>\n",
    "<h1><center>Reusable</center></h1>\n",
    "<h1><center>Auditable</center></h1>\n",
    "<h1><center>Testable</center></h1>\n",
    "\n",
    "\n"
   ]
  },
  {
   "cell_type": "markdown",
   "metadata": {
    "slideshow": {
     "slide_type": "slide"
    }
   },
   "source": [
    "## 1. Code structure (functions, classes, modules)\n",
    "\n",
    "## 4. Packaging and package management\n",
    "\n",
    "## 5. Testing\n",
    "\n",
    "## 3. Version control\n",
    "\n",
    "## 2. The Zen of Python"
   ]
  },
  {
   "cell_type": "raw",
   "metadata": {
    "hide_egal": true,
    "is_egal": true,
    "slideshow": {
     "slide_type": "slide"
    }
   },
   "source": [
    "<svg height=\"600\" width=\"100%\"><desc>Created with Snap</desc><defs><filter id=\"Sk1rwhi8v176\" filterUnits=\"userSpaceOnUse\"><feGaussianBlur in=\"SourceAlpha\" stdDeviation=\"3\"></feGaussianBlur><feOffset dx=\"0\" dy=\"2\" result=\"offsetblur\"></feOffset><feFlood flood-color=\"#000000\"></feFlood><feComposite in2=\"offsetblur\" operator=\"in\"></feComposite><feComponentTransfer><feFuncA type=\"linear\" slope=\"1\"></feFuncA></feComponentTransfer><feMerge><feMergeNode></feMergeNode><feMergeNode in=\"SourceGraphic\"></feMergeNode></feMerge></filter><marker viewBox=\"0 0 10 10\" markerWidth=\"10\" markerHeight=\"10\" orient=\"auto\" refX=\"9\" refY=\"3\" id=\"arrowEndMarker\"><polygon points=\"0,0,0,6,9,3,0,0\" style=\"\" fill=\"#323232\" id=\"arrow\"></polygon></marker><marker viewBox=\"0 0 10 10\" markerWidth=\"10\" markerHeight=\"10\" orient=\"auto\" refX=\"0\" refY=\"3\" id=\"arrowStartMarker\"><polygon points=\"0,3,9,0,9,6,0,3\" style=\"\" fill=\"#323232\" id=\"startArrow\"></polygon></marker></defs><g id=\"drup_elem_1\" first-frame=\"1\" last-frame=\"1\" class=\"drupElem\"><rect x=\"102.15625\" y=\"20.984375\" width=\"160\" height=\"120\" style=\"stroke-width: 1px;\" fill=\"#ffffff\" stroke=\"#000000\" vector-effect=\"non-scaling-stroke\" class=\"core alignable sub\" transform=\"matrix(1,0,0,1,152,119)\"></rect><circle cx=\"182.15625\" cy=\"20.984375\" r=\"5\" style=\"stroke-width: 1px; opacity: 0;\" stroke=\"#000000\" fill=\"#ffffff\" id=\"drup_elem_1_endpoint_0\" class=\"endPoint up sub\" transform=\"matrix(1,0,0,1,152,119)\"></circle><circle cx=\"182.15625\" cy=\"140.984375\" r=\"5\" style=\"stroke-width: 1px; opacity: 0;\" stroke=\"#000000\" fill=\"#ffffff\" id=\"drup_elem_1_endpoint_1\" class=\"endPoint down sub\" transform=\"matrix(1,0,0,1,152,119)\"></circle><circle cx=\"102.15625\" cy=\"80.984375\" r=\"5\" style=\"stroke-width: 1px; opacity: 0;\" stroke=\"#000000\" fill=\"#ffffff\" id=\"drup_elem_1_endpoint_2\" class=\"endPoint left sub\" transform=\"matrix(1,0,0,1,152,119)\"></circle><circle cx=\"262.15625\" cy=\"80.984375\" r=\"5\" style=\"stroke-width: 1px; opacity: 0;\" stroke=\"#000000\" fill=\"#ffffff\" id=\"drup_elem_1_endpoint_3\" class=\"endPoint right sub\" transform=\"matrix(1,0,0,1,152,119)\"></circle><circle cx=\"102.15625\" cy=\"20.984375\" r=\"5\" style=\"stroke-width: 1px; opacity: 0;\" stroke=\"#000000\" fill=\"#ffffff\" id=\"drup_elem_1_endpoint_4\" class=\"endPoint left-up sub\" transform=\"matrix(1,0,0,1,152,119)\"></circle><circle cx=\"102.15625\" cy=\"140.984375\" r=\"5\" style=\"stroke-width: 1px; opacity: 0;\" stroke=\"#000000\" fill=\"#ffffff\" id=\"drup_elem_1_endpoint_5\" class=\"endPoint left-down sub\" transform=\"matrix(1,0,0,1,152,119)\"></circle><circle cx=\"262.15625\" cy=\"20.984375\" r=\"5\" style=\"stroke-width: 1px; opacity: 0;\" stroke=\"#000000\" fill=\"#ffffff\" id=\"drup_elem_1_endpoint_6\" class=\"endPoint right-up sub\" transform=\"matrix(1,0,0,1,152,119)\"></circle><circle cx=\"262.15625\" cy=\"140.984375\" r=\"5\" style=\"stroke-width: 1px; opacity: 0;\" stroke=\"#000000\" fill=\"#ffffff\" id=\"drup_elem_1_endpoint_7\" class=\"endPoint right-down sub\" transform=\"matrix(1,0,0,1,152,119)\"></circle><text x=\"182.15625\" y=\"80.984375\" style=\"font-size: 20px; text-anchor: middle; alignment-baseline: central; opacity: 1; visibility: visible;\" class=\"egal-label sub\" transform=\"matrix(1,0,0,1,152,119)\" data-src=\"Code\">Code</text></g><g id=\"drup_elem_4\" first-frame=\"1\" last-frame=\"1\" class=\"drupElem\"><rect x=\"102.15625\" y=\"20.984375\" width=\"160\" height=\"120\" style=\"stroke-width: 1px;\" fill=\"#ffffff\" stroke=\"#000000\" vector-effect=\"non-scaling-stroke\" class=\"core alignable sub\" transform=\"matrix(1,0,0,1,365,119)\"></rect><circle cx=\"182.15625\" cy=\"20.984375\" r=\"5\" style=\"stroke-width: 1px; opacity: 0;\" stroke=\"#000000\" fill=\"#ffffff\" id=\"drup_elem_4_endpoint_0\" class=\"endPoint up sub\" transform=\"matrix(1,0,0,1,365,119)\"></circle><circle cx=\"182.15625\" cy=\"140.984375\" r=\"5\" style=\"stroke-width: 1px; opacity: 0;\" stroke=\"#000000\" fill=\"#ffffff\" id=\"drup_elem_4_endpoint_1\" class=\"endPoint down sub\" transform=\"matrix(1,0,0,1,365,119)\"></circle><circle cx=\"102.15625\" cy=\"80.984375\" r=\"5\" style=\"stroke-width: 1px; opacity: 0;\" stroke=\"#000000\" fill=\"#ffffff\" id=\"drup_elem_4_endpoint_2\" class=\"endPoint left sub\" transform=\"matrix(1,0,0,1,365,119)\"></circle><circle cx=\"262.15625\" cy=\"80.984375\" r=\"5\" style=\"stroke-width: 1px; opacity: 0;\" stroke=\"#000000\" fill=\"#ffffff\" id=\"drup_elem_4_endpoint_3\" class=\"endPoint right sub\" transform=\"matrix(1,0,0,1,365,119)\"></circle><circle cx=\"102.15625\" cy=\"20.984375\" r=\"5\" style=\"stroke-width: 1px; opacity: 0;\" stroke=\"#000000\" fill=\"#ffffff\" id=\"drup_elem_4_endpoint_4\" class=\"endPoint left-up sub\" transform=\"matrix(1,0,0,1,365,119)\"></circle><circle cx=\"102.15625\" cy=\"140.984375\" r=\"5\" style=\"stroke-width: 1px; opacity: 0;\" stroke=\"#000000\" fill=\"#ffffff\" id=\"drup_elem_4_endpoint_5\" class=\"endPoint left-down sub\" transform=\"matrix(1,0,0,1,365,119)\"></circle><circle cx=\"262.15625\" cy=\"20.984375\" r=\"5\" style=\"stroke-width: 1px; opacity: 0;\" stroke=\"#000000\" fill=\"#ffffff\" id=\"drup_elem_4_endpoint_6\" class=\"endPoint right-up sub\" transform=\"matrix(1,0,0,1,365,119)\"></circle><circle cx=\"262.15625\" cy=\"140.984375\" r=\"5\" style=\"stroke-width: 1px; opacity: 0;\" stroke=\"#000000\" fill=\"#ffffff\" id=\"drup_elem_4_endpoint_7\" class=\"endPoint right-down sub\" transform=\"matrix(1,0,0,1,365,119)\"></circle><text x=\"182.15625\" y=\"80.984375\" style=\"font-size: 20px; text-anchor: middle; alignment-baseline: central; opacity: 1; visibility: visible;\" class=\"egal-label sub\" transform=\"matrix(1,0,0,1,365,119)\" data-src=\"Function\">Function</text></g><g id=\"drup_elem_5\" first-frame=\"1\" last-frame=\"1\" class=\"drupElem egal-select\"><rect x=\"102.15625\" y=\"20.984375\" width=\"160\" height=\"120\" style=\"stroke-width: 1px;\" fill=\"#ffffff\" stroke=\"#000000\" vector-effect=\"non-scaling-stroke\" class=\"core alignable sub\" transform=\"matrix(1,0,0,1,567,119)\"></rect><circle cx=\"182.15625\" cy=\"20.984375\" r=\"5\" style=\"stroke-width: 1px; opacity: 0;\" stroke=\"#000000\" fill=\"#ffffff\" id=\"drup_elem_5_endpoint_0\" class=\"endPoint up sub\" transform=\"matrix(1,0,0,1,567,119)\"></circle><circle cx=\"182.15625\" cy=\"140.984375\" r=\"5\" style=\"stroke-width: 1px; opacity: 0;\" stroke=\"#000000\" fill=\"#ffffff\" id=\"drup_elem_5_endpoint_1\" class=\"endPoint down sub\" transform=\"matrix(1,0,0,1,567,119)\"></circle><circle cx=\"102.15625\" cy=\"80.984375\" r=\"5\" style=\"stroke-width: 1px; opacity: 0;\" stroke=\"#000000\" fill=\"#ffffff\" id=\"drup_elem_5_endpoint_2\" class=\"endPoint left sub\" transform=\"matrix(1,0,0,1,567,119)\"></circle><circle cx=\"262.15625\" cy=\"80.984375\" r=\"5\" style=\"stroke-width: 1px; opacity: 0;\" stroke=\"#000000\" fill=\"#ffffff\" id=\"drup_elem_5_endpoint_3\" class=\"endPoint right sub\" transform=\"matrix(1,0,0,1,567,119)\"></circle><circle cx=\"102.15625\" cy=\"20.984375\" r=\"5\" style=\"stroke-width: 1px; opacity: 0;\" stroke=\"#000000\" fill=\"#ffffff\" id=\"drup_elem_5_endpoint_4\" class=\"endPoint left-up sub\" transform=\"matrix(1,0,0,1,567,119)\"></circle><circle cx=\"102.15625\" cy=\"140.984375\" r=\"5\" style=\"stroke-width: 1px; opacity: 0;\" stroke=\"#000000\" fill=\"#ffffff\" id=\"drup_elem_5_endpoint_5\" class=\"endPoint left-down sub\" transform=\"matrix(1,0,0,1,567,119)\"></circle><circle cx=\"262.15625\" cy=\"20.984375\" r=\"5\" style=\"stroke-width: 1px; opacity: 0;\" stroke=\"#000000\" fill=\"#ffffff\" id=\"drup_elem_5_endpoint_6\" class=\"endPoint right-up sub\" transform=\"matrix(1,0,0,1,567,119)\"></circle><circle cx=\"262.15625\" cy=\"140.984375\" r=\"5\" style=\"stroke-width: 1px; opacity: 0;\" stroke=\"#000000\" fill=\"#ffffff\" id=\"drup_elem_5_endpoint_7\" class=\"endPoint right-down sub\" transform=\"matrix(1,0,0,1,567,119)\"></circle><text x=\"182.15625\" y=\"80.984375\" style=\"font-size: 20px; text-anchor: middle; alignment-baseline: central; opacity: 1; visibility: visible;\" class=\"egal-label sub\" transform=\"matrix(1,0,0,1,567,119)\" data-src=\"Class\">Class</text></g><g id=\"drup_elem_6\" first-frame=\"1\" last-frame=\"1\" class=\"drupElem\"><rect x=\"102.15625\" y=\"20.984375\" width=\"160\" height=\"120\" style=\"stroke-width: 1px;\" fill=\"#ffffff\" stroke=\"#000000\" vector-effect=\"non-scaling-stroke\" class=\"core alignable sub\" transform=\"matrix(1,0,0,1,234,280)\"></rect><circle cx=\"182.15625\" cy=\"20.984375\" r=\"5\" style=\"stroke-width: 1px; opacity: 0;\" stroke=\"#000000\" fill=\"#ffffff\" id=\"drup_elem_6_endpoint_0\" class=\"endPoint up sub\" transform=\"matrix(1,0,0,1,234,280)\"></circle><circle cx=\"182.15625\" cy=\"140.984375\" r=\"5\" style=\"stroke-width: 1px; opacity: 0;\" stroke=\"#000000\" fill=\"#ffffff\" id=\"drup_elem_6_endpoint_1\" class=\"endPoint down sub\" transform=\"matrix(1,0,0,1,234,280)\"></circle><circle cx=\"102.15625\" cy=\"80.984375\" r=\"5\" style=\"stroke-width: 1px; opacity: 0;\" stroke=\"#000000\" fill=\"#ffffff\" id=\"drup_elem_6_endpoint_2\" class=\"endPoint left sub\" transform=\"matrix(1,0,0,1,234,280)\"></circle><circle cx=\"262.15625\" cy=\"80.984375\" r=\"5\" style=\"stroke-width: 1px; opacity: 0;\" stroke=\"#000000\" fill=\"#ffffff\" id=\"drup_elem_6_endpoint_3\" class=\"endPoint right sub\" transform=\"matrix(1,0,0,1,234,280)\"></circle><circle cx=\"102.15625\" cy=\"20.984375\" r=\"5\" style=\"stroke-width: 1px; opacity: 0;\" stroke=\"#000000\" fill=\"#ffffff\" id=\"drup_elem_6_endpoint_4\" class=\"endPoint left-up sub\" transform=\"matrix(1,0,0,1,234,280)\"></circle><circle cx=\"102.15625\" cy=\"140.984375\" r=\"5\" style=\"stroke-width: 1px; opacity: 0;\" stroke=\"#000000\" fill=\"#ffffff\" id=\"drup_elem_6_endpoint_5\" class=\"endPoint left-down sub\" transform=\"matrix(1,0,0,1,234,280)\"></circle><circle cx=\"262.15625\" cy=\"20.984375\" r=\"5\" style=\"stroke-width: 1px; opacity: 0;\" stroke=\"#000000\" fill=\"#ffffff\" id=\"drup_elem_6_endpoint_6\" class=\"endPoint right-up sub\" transform=\"matrix(1,0,0,1,234,280)\"></circle><circle cx=\"262.15625\" cy=\"140.984375\" r=\"5\" style=\"stroke-width: 1px; opacity: 0;\" stroke=\"#000000\" fill=\"#ffffff\" id=\"drup_elem_6_endpoint_7\" class=\"endPoint right-down sub\" transform=\"matrix(1,0,0,1,234,280)\"></circle><text x=\"182.15625\" y=\"80.984375\" style=\"font-size: 20px; text-anchor: middle; alignment-baseline: central; opacity: 1; visibility: visible;\" class=\"egal-label sub\" transform=\"matrix(1,0,0,1,234,280)\" data-src=\"Module\">Module</text></g><g id=\"drup_elem_7\" first-frame=\"1\" last-frame=\"1\" class=\"drupElem\"><rect x=\"102.15625\" y=\"20.984375\" width=\"160\" height=\"120\" style=\"stroke-width: 1px;\" fill=\"#ffffff\" stroke=\"#000000\" vector-effect=\"non-scaling-stroke\" class=\"core alignable sub\" transform=\"matrix(1,0,0,1,456,279)\"></rect><circle cx=\"182.15625\" cy=\"20.984375\" r=\"5\" style=\"stroke-width: 1px; opacity: 0;\" stroke=\"#000000\" fill=\"#ffffff\" id=\"drup_elem_7_endpoint_0\" class=\"endPoint up sub\" transform=\"matrix(1,0,0,1,456,279)\"></circle><circle cx=\"182.15625\" cy=\"140.984375\" r=\"5\" style=\"stroke-width: 1px; opacity: 0;\" stroke=\"#000000\" fill=\"#ffffff\" id=\"drup_elem_7_endpoint_1\" class=\"endPoint down sub\" transform=\"matrix(1,0,0,1,456,279)\"></circle><circle cx=\"102.15625\" cy=\"80.984375\" r=\"5\" style=\"stroke-width: 1px; opacity: 0;\" stroke=\"#000000\" fill=\"#ffffff\" id=\"drup_elem_7_endpoint_2\" class=\"endPoint left sub\" transform=\"matrix(1,0,0,1,456,279)\"></circle><circle cx=\"262.15625\" cy=\"80.984375\" r=\"5\" style=\"stroke-width: 1px; opacity: 0;\" stroke=\"#000000\" fill=\"#ffffff\" id=\"drup_elem_7_endpoint_3\" class=\"endPoint right sub\" transform=\"matrix(1,0,0,1,456,279)\"></circle><circle cx=\"102.15625\" cy=\"20.984375\" r=\"5\" style=\"stroke-width: 1px; opacity: 0;\" stroke=\"#000000\" fill=\"#ffffff\" id=\"drup_elem_7_endpoint_4\" class=\"endPoint left-up sub\" transform=\"matrix(1,0,0,1,456,279)\"></circle><circle cx=\"102.15625\" cy=\"140.984375\" r=\"5\" style=\"stroke-width: 1px; opacity: 0;\" stroke=\"#000000\" fill=\"#ffffff\" id=\"drup_elem_7_endpoint_5\" class=\"endPoint left-down sub\" transform=\"matrix(1,0,0,1,456,279)\"></circle><circle cx=\"262.15625\" cy=\"20.984375\" r=\"5\" style=\"stroke-width: 1px; opacity: 0;\" stroke=\"#000000\" fill=\"#ffffff\" id=\"drup_elem_7_endpoint_6\" class=\"endPoint right-up sub\" transform=\"matrix(1,0,0,1,456,279)\"></circle><circle cx=\"262.15625\" cy=\"140.984375\" r=\"5\" style=\"stroke-width: 1px; opacity: 0;\" stroke=\"#000000\" fill=\"#ffffff\" id=\"drup_elem_7_endpoint_7\" class=\"endPoint right-down sub\" transform=\"matrix(1,0,0,1,456,279)\"></circle><text x=\"182.15625\" y=\"80.984375\" style=\"font-size: 20px; text-anchor: middle; alignment-baseline: central; opacity: 1; visibility: visible;\" class=\"egal-label sub\" transform=\"matrix(1,0,0,1,456,279)\" data-src=\"Package\">Package</text></g><g id=\"drup_elem_2\" first-frame=\"1\" last-frame=\"1\" class=\"drupElem\"><rect x=\"183.15625\" y=\"75.984375\" width=\"0\" height=\"0\" style=\"stroke-width: 1px;\" fill=\"#ffffff\" stroke=\"#000000\" vector-effect=\"non-scaling-stroke\" class=\"core alignable sub\"></rect><circle cx=\"183.15625\" cy=\"75.984375\" r=\"5\" style=\"stroke-width: 1px; opacity: 0;\" stroke=\"#000000\" fill=\"#ffffff\" id=\"drup_elem_2_endpoint_0\" class=\"endPoint up sub\"></circle><circle cx=\"183.15625\" cy=\"75.984375\" r=\"5\" style=\"stroke-width: 1px; opacity: 0;\" stroke=\"#000000\" fill=\"#ffffff\" id=\"drup_elem_2_endpoint_1\" class=\"endPoint down sub\"></circle><circle cx=\"183.15625\" cy=\"75.984375\" r=\"5\" style=\"stroke-width: 1px; opacity: 0;\" stroke=\"#000000\" fill=\"#ffffff\" id=\"drup_elem_2_endpoint_2\" class=\"endPoint left sub\"></circle><circle cx=\"183.15625\" cy=\"75.984375\" r=\"5\" style=\"stroke-width: 1px; opacity: 0;\" stroke=\"#000000\" fill=\"#ffffff\" id=\"drup_elem_2_endpoint_3\" class=\"endPoint right sub\"></circle><circle cx=\"183.15625\" cy=\"75.984375\" r=\"5\" style=\"stroke-width: 1px; opacity: 0;\" stroke=\"#000000\" fill=\"#ffffff\" id=\"drup_elem_2_endpoint_4\" class=\"endPoint left-up sub\"></circle><circle cx=\"183.15625\" cy=\"75.984375\" r=\"5\" style=\"stroke-width: 1px; opacity: 0;\" stroke=\"#000000\" fill=\"#ffffff\" id=\"drup_elem_2_endpoint_5\" class=\"endPoint left-down sub\"></circle><circle cx=\"183.15625\" cy=\"75.984375\" r=\"5\" style=\"stroke-width: 1px; opacity: 0;\" stroke=\"#000000\" fill=\"#ffffff\" id=\"drup_elem_2_endpoint_6\" class=\"endPoint right-up sub\"></circle><circle cx=\"183.15625\" cy=\"75.984375\" r=\"5\" style=\"stroke-width: 1px; opacity: 0;\" stroke=\"#000000\" fill=\"#ffffff\" id=\"drup_elem_2_endpoint_7\" class=\"endPoint right-down sub\"></circle><text x=\"183.15625\" y=\"75.984375\" style=\"font-size: 20px; text-anchor: middle; alignment-baseline: central; opacity: 0;\" class=\"egal-label sub\">|</text></g><g id=\"drup_elem_8\" first-frame=\"1\" last-frame=\"1\" class=\"drupElem\"><text x=\"40.796875\" y=\"202.8125\" style=\"text-anchor: middle; alignment-baseline: central;\" class=\"core alignable sub egal-label\"></text></g><g id=\"drup_elem_9\" first-frame=\"1\" last-frame=\"1\" class=\"drupElem\"><text x=\"25.796875\" y=\"225.8125\" style=\"text-anchor: middle; alignment-baseline: central;\" class=\"core alignable sub egal-label\"></text></g><g id=\"drup_elem_10\" first-frame=\"1\" last-frame=\"1\" class=\"drupElem\"><text x=\"25.796875\" y=\"245.8125\" style=\"text-anchor: middle; alignment-baseline: central; font-size: 20px;\" class=\"core alignable sub egal-label\"></text></g><g id=\"drup_elem_11\" first-frame=\"1\" last-frame=\"1\" class=\"drupElem\"><text x=\"97.796875\" y=\"353.8125\" style=\"text-anchor: middle; alignment-baseline: central; font-size: 20px;\" class=\"core alignable sub egal-label\"></text></g><g id=\"drup_elem_12\" first-frame=\"1\" last-frame=\"1\" class=\"drupElem\"><text x=\"108.796875\" y=\"529.8125\" style=\"text-anchor: middle; alignment-baseline: central; font-size: 20px;\" class=\"core alignable sub egal-label\"></text></g><g id=\"drup_elem_13\" first-frame=\"1\" last-frame=\"1\" class=\"drupElem\"><text x=\"239.796875\" y=\"521.8125\" style=\"text-anchor: middle; alignment-baseline: central; font-size: 20px;\" class=\"core alignable sub egal-label\"></text></g></svg>"
   ]
  },
  {
   "cell_type": "code",
   "execution_count": null,
   "metadata": {
    "slideshow": {
     "slide_type": "slide"
    }
   },
   "outputs": [],
   "source": [
    "def calc_psum(xval=56):\n",
    "    \"\"\"Calculate psum\n",
    "    A small function to calculate something\n",
    "    \n",
    "    Parameter\n",
    "    =========\n",
    "    xval : float\n",
    "        Some input data\n",
    "        \n",
    "    \"\"\"\n",
    "    yval = 23\n",
    "    pars = [12, 14, 16, 18]\n",
    "    psum = 0\n",
    "    for p in pars:\n",
    "        psum = psum + p * xval \n",
    "    return psum"
   ]
  },
  {
   "cell_type": "code",
   "execution_count": null,
   "metadata": {},
   "outputs": [],
   "source": [
    "calc_psum(xval=5)"
   ]
  },
  {
   "cell_type": "markdown",
   "metadata": {
    "slideshow": {
     "slide_type": "slide"
    }
   },
   "source": [
    "# Classes"
   ]
  },
  {
   "cell_type": "code",
   "execution_count": null,
   "metadata": {
    "slideshow": {
     "slide_type": "slide"
    }
   },
   "outputs": [],
   "source": [
    "class SumFuncs(object):\n",
    "    \n",
    "    pars = [12, 14, 16, 18]\n",
    "    \n",
    "    def __init__(self, xval=56):\n",
    "        self.xval = xval\n",
    "        \n",
    "    def geom_sum(self, yval):\n",
    "        return self.xval * yval\n",
    "    \n",
    "    def aritm_sum(self, yval):\n",
    "        return self.xval + yval    "
   ]
  },
  {
   "cell_type": "code",
   "execution_count": null,
   "metadata": {},
   "outputs": [],
   "source": [
    "sf = SumFuncs(xval=67)\n",
    "print(sf.xval)\n",
    "print(sf.geom_sum(22))"
   ]
  },
  {
   "cell_type": "markdown",
   "metadata": {
    "slideshow": {
     "slide_type": "slide"
    }
   },
   "source": [
    "\n",
    "## Modules and Packages\n",
    "\n",
    "scatterplot.py -> 4 files:\n",
    "\n",
    "1. fileio.py\n",
    "2. plot.py\n",
    "3. config.py\n",
    "4. \\__init\\__.py\n"
   ]
  },
  {
   "cell_type": "code",
   "execution_count": null,
   "metadata": {
    "slideshow": {
     "slide_type": "slide"
    }
   },
   "outputs": [],
   "source": [
    "# fileio.py\n",
    "import os\n",
    "\n",
    "import numpy as np\n",
    "\n",
    "BIOARGO_VARLIST = [\"chl_smooth\",  \"aou\", \"doxy\", \"bbp700_corr_smooth\", \n",
    "                   \"S\", \"T\", \"chl_spikes\", \"c1phase\", \"c2phase\",\n",
    "                   \"sigma_theta0\", \"o2prcntsat\", \"bbp532_corr_smooth\",\n",
    "                   \"Kd\", \"ocr\", \"bbp_slope_smooth\", \"bbp532_corr_smooth\",\n",
    "                   \"S\", \"T\", \"bbp700_corr\", \"bbp532_corr\"]\n",
    "   \n",
    "def read_variable(float_no=\"lovbio014b\", varname=\"chl_smooth\"):\n",
    "    \"\"\"read variable from bioargo .dat file\n",
    "    Read data from a bioargo data file.\n",
    "\n",
    "    Arguments\n",
    "    ---------\n",
    "    float_no: str\n",
    "        Name of float\n",
    "    varname: str\n",
    "        Variable to read (will be included in file name)\n",
    "\n",
    "    Output\n",
    "    ------\n",
    "    time: Array-like\n",
    "        Vector with julian dates\n",
    "    depths: Array-like\n",
    "        Vector with depths for observations (m)\n",
    "    values: Array-like\n",
    "        Vector with observed values\n",
    "    \"\"\"\n",
    "    if not varname in BIOARGO_VARLIST:\n",
    "        raise NameError(\"varname not valid\")\n",
    "    filename = f\"{float_no}_xyz_{varname}.dat\"\n",
    "    if not os.path.isfile(filename):\n",
    "        raise FileNotFoundError(f\"The file '{filename}'' doesn't exist\")\n",
    "    time,depth,vals = np.loadtxt(filename, unpack=True, usecols=(0,1,2))\n",
    "    time = time-366  #conversion between octave and python date\n",
    "    return time,depth,vals\n",
    "\n",
    "def read_mld(float_no=\"lovbio014b\", mldtype=\"mld\"):\n",
    "    \"\"\"Read mld from bioargo .dat file\"\"\"\n",
    "    filename = f\"{float_no}_mld.dat\"\n",
    "    mdict = {}\n",
    "    time, mdict[\"mld\"], mdict[\"010\"], mdict[\"005\"], mdict[\"001\"] = np.loadtxt(filename, unpack=True, usecols=(0,1,2,3,4))\n",
    "    time = time-366\n",
    "    return time,mdict[mldtype]"
   ]
  },
  {
   "cell_type": "code",
   "execution_count": null,
   "metadata": {
    "slideshow": {
     "slide_type": "slide"
    }
   },
   "outputs": [],
   "source": [
    "# plot.py\n",
    "import numpy as np\n",
    "import scipy.interpolate\n",
    "import matplotlib as mpl\n",
    "from matplotlib import pyplot as plt\n",
    "\n",
    "import cmocean\n",
    "import seaborn as sns\n",
    "\n",
    "def nice_dateaxis(fig=None, ax=None):\n",
    "    \"\"\"Create date axis\"\"\"\n",
    "    fig = plt.gcf() if fig is None else fig\n",
    "    ax = plt.gca() if ax is None else ax\n",
    "    fig.autofmt_xdate() \n",
    "    ax.xaxis_date() \n",
    "\n",
    "def colorbar(vmin, vmax, cmap, norm):\n",
    "    \"\"\"Add fancy colorbar to time_depth plot\"\"\"\n",
    "    ax1 = plt.gcf().add_axes([0.90, 0.25, 0.025, 0.65])\n",
    "    norm = mpl.colors.Normalize(vmin=vmin, vmax=vmax)\n",
    "    cb1 = mpl.colorbar.ColorbarBase(ax1, cmap=cmap, norm=norm, orientation='vertical')\n",
    "    imaxes = plt.gca()\n",
    "    plt.axes(cb1.ax)\n",
    "    plt.yticks(fontsize=20)\n",
    "    plt.axes(imaxes)\n",
    "\n",
    "def time_depth(time, depths, vals, ymax=500, vmin=None, vmax=None, cmap=None):\n",
    "    \"\"\"Plot a depth slice of an argo float\"\"\"\n",
    "    plt.close(\"all\")\n",
    "    plt.figure(1,(16,6))\n",
    "    sc = plt.scatter(time, depths, s=64, c=vals, marker='o', edgecolors='none', \n",
    "                     vmin=vmin, vmax=vmax, cmap=cmap)\n",
    "    plt.ylim(0, ymax)\n",
    "    plt.gca().invert_yaxis()\n",
    "    plt.ylabel('Depth [m]')\n",
    "    nice_dateaxis()\n",
    "\n",
    "def mld(time, depths):\n",
    "    \"\"\"Plot mld on a depth slice of an argo float\"\"\"\n",
    "    return plt.plot(time, depths, 'w-', lw=2)"
   ]
  },
  {
   "cell_type": "code",
   "execution_count": null,
   "metadata": {
    "slideshow": {
     "slide_type": "slide"
    }
   },
   "outputs": [],
   "source": [
    "# __init__.py\n",
    "import matplotlib.pyplot as plt\n",
    "\n",
    "from . import fileio\n",
    "from . import plot\n",
    "from . import config\n",
    "\n",
    "class Float(object):\n",
    "    \"\"\"Class to read and plot float data\"\"\"\n",
    "    def __init__(self, float_no=\"lovbio014b\"):\n",
    "        \"\"\"Create instance of float class\"\"\"\n",
    "        self.float_no = float_no\n",
    "        self.mld_time, self.mld = fileio.read_mld(float_no=float_no)\n",
    "\n",
    "    def load(self, varname=\"chl_smooth\"):\n",
    "        \"\"\"Load variable from float dat file\"\"\"\n",
    "        self.time,self.depth,self.vals = fileio.read_variable(\n",
    "            float_no=self.float_no, varname=varname)\n",
    "        \n",
    "    def plot(self, varname=\"chl_smooth\"):\n",
    "        \"\"\"Plot variable as time-depth panel\"\"\"\n",
    "        self.load(varname=varname)\n",
    "        ckws = config.get_colordict(varname, vals=self.vals)\n",
    "        plot.time_depth(self.time, self.depth, self.vals, **ckws)\n",
    "        plot.mld(self.mld_time, self.mld)\n",
    "\n",
    "def process_float(float_no=\"lovbio014b\", varname=\"chl_smooth\"):\n",
    "    fl = Float(float_no=float_no)\n",
    "    fl.plot(varname=varname)\n",
    "    plt.savefig(f\"{float_no}_{varname}.png\")"
   ]
  },
  {
   "cell_type": "code",
   "execution_count": null,
   "metadata": {
    "slideshow": {
     "slide_type": "slide"
    }
   },
   "outputs": [],
   "source": [
    "%pylab inline\n",
    "import bioargo\n",
    "fl = bioargo.Float()\n",
    "fl.plot()"
   ]
  },
  {
   "cell_type": "markdown",
   "metadata": {
    "slideshow": {
     "slide_type": "slide"
    }
   },
   "source": [
    "# Packaging and Poetry"
   ]
  },
  {
   "cell_type": "markdown",
   "metadata": {
    "slideshow": {
     "slide_type": "slide"
    }
   },
   "source": [
    "```bash\n",
    "$ poetry new bioargo\n",
    "$ cd bioargo\n",
    "$ poetry add scipy numpy matplotlib cmocean seaborn\n",
    "(copy and work on files)\n",
    "$ pip install .\n",
    "```\n"
   ]
  },
  {
   "cell_type": "code",
   "execution_count": null,
   "metadata": {},
   "outputs": [],
   "source": []
  }
 ],
 "metadata": {
  "celltoolbar": "Slideshow",
  "kernelspec": {
   "display_name": "Python 3",
   "language": "python",
   "name": "python3"
  },
  "language_info": {
   "codemirror_mode": {
    "name": "ipython",
    "version": 3
   },
   "file_extension": ".py",
   "mimetype": "text/x-python",
   "name": "python",
   "nbconvert_exporter": "python",
   "pygments_lexer": "ipython3",
   "version": "3.7.4"
  }
 },
 "nbformat": 4,
 "nbformat_minor": 2
}
